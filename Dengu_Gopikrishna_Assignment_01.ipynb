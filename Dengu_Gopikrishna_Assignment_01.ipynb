{
  "cells": [
    {
      "cell_type": "markdown",
      "metadata": {
        "id": "view-in-github",
        "colab_type": "text"
      },
      "source": [
        "<a href=\"https://colab.research.google.com/github/Gopi-1818/Gopikrishna_INFO5731_Spring2025/blob/main/Dengu_Gopikrishna_Assignment_01.ipynb\" target=\"_parent\"><img src=\"https://colab.research.google.com/assets/colab-badge.svg\" alt=\"Open In Colab\"/></a>"
      ]
    },
    {
      "cell_type": "markdown",
      "metadata": {
        "id": "Ryk8D1Q4Wsrp"
      },
      "source": [
        "# **INFO5731 Assignment - 1**"
      ]
    },
    {
      "cell_type": "markdown",
      "source": [
        "This assignment includes range of programming tasks and data analysis exercises, aiming to enhance your Python skills and proficiency in string manipulation, numerical computations, and data science. Follow the instructions carefully and design well-structured Python programs to address each question.\n",
        "\n",
        "\n",
        "1.  Question 1-5 using AI assistance is strictly prohibted\n",
        "2.  Question 6-7 AI assitance is recommended by following guidelines.\n",
        "\n",
        "Guidelines and expectations file can be found in week 2 module.\n",
        "\n",
        "Late Submission will have a penalty of 10% reduction for each day after the deadline."
      ],
      "metadata": {
        "id": "qcP6re2g5A5r"
      }
    },
    {
      "cell_type": "markdown",
      "metadata": {
        "id": "JkzR8cFAyGik"
      },
      "source": [
        "# Question 1 (10 points).\n",
        "\n",
        "The formula that describes the volume V of a hemisphere with radius r is the following:\n",
        "\n",
        "$ V=\\frac{2}{3}\\ast\\ \\pi\\ast\\ r^3 $\n",
        "\n",
        "Write a program to calculate the value of V when r is in the range of even numbers from 1-20. Output the result in the following format:\n",
        "\n",
        "\tr\tV\n",
        "\t2\t…\n",
        "\t4\t…\n",
        "\t6\t…\n",
        "\t.\n",
        "\t.\n",
        "\t.\n",
        "\t20\t…\n"
      ]
    },
    {
      "cell_type": "code",
      "execution_count": null,
      "metadata": {
        "id": "jDyTKYs-yGit",
        "colab": {
          "base_uri": "https://localhost:8080/"
        },
        "outputId": "d0fe4cdf-eb77-4001-d874-702c31f1267a"
      },
      "outputs": [
        {
          "output_type": "stream",
          "name": "stdout",
          "text": [
            "r  V\n",
            "2  16.76\n",
            "4  134.04\n",
            "6  452.39\n",
            "8  1072.33\n",
            "10 2094.40\n",
            "12 3619.11\n",
            "14 5747.02\n",
            "16 8578.64\n",
            "18 12214.51\n"
          ]
        }
      ],
      "source": [
        "# Your code here\n",
        "import math\n",
        "\n",
        "print('r  V')\n",
        "for r in range(2,20,2):\n",
        "  V=(2/3)*math.pi*r**3\n",
        "  print(f'{r:<2} {V:<.2f}')\n",
        "\n"
      ]
    },
    {
      "cell_type": "markdown",
      "metadata": {
        "id": "90_NR8c5XGWc"
      },
      "source": [
        "# Question 2 (10 points)\n",
        "\n",
        "(a) Write a Python program to generate a sequence of 12 random numbers falling within the range of 50 to 150.\n",
        "\n",
        "(b) Arrange the generated numbers in ascending order. Display the sorted list.\n",
        "\n",
        "(c) Extend the program to arrange the numbers in descending order as well. Present the sorted list accordingly.\n",
        "\n",
        "(d) Compute and output the average of the entire group of generated numbers.\n",
        "\n",
        "(e) Enhance the program to calculate and display the average of the first 6 numbers from both the ascending and descending sorted lists."
      ]
    },
    {
      "cell_type": "code",
      "execution_count": null,
      "metadata": {
        "id": "5QX6bJjGWXY9",
        "colab": {
          "base_uri": "https://localhost:8080/"
        },
        "outputId": "902a166b-12fd-4c4e-f784-2102595ab246"
      },
      "outputs": [
        {
          "output_type": "stream",
          "name": "stdout",
          "text": [
            "Generated numbers: [148, 52, 66, 119, 70, 82, 59, 102, 87, 83, 84, 79]\n",
            "Ascending order: [52, 59, 66, 70, 79, 82, 83, 84, 87, 102, 119, 148]\n",
            "Descending order: [148, 119, 102, 87, 84, 83, 82, 79, 70, 66, 59, 52]\n",
            "Average of all generated numbers: 85.92\n",
            "Average of first 6 numbers in ascending order: 68.00\n",
            "Average of first 6 numbers in descending order: 103.83\n"
          ]
        }
      ],
      "source": [
        "import random\n",
        "\n",
        "# (a)\n",
        "random_numbers = [random.randint(50, 150) for _ in range(12)]\n",
        "print(f\"Generated numbers: {random_numbers}\")\n",
        "\n",
        "# (b)\n",
        "ascending_numbers = sorted(random_numbers)\n",
        "print(f\"Ascending order: {ascending_numbers}\")\n",
        "\n",
        "# (c)\n",
        "descending_numbers = sorted(random_numbers, reverse=True)\n",
        "print(f\"Descending order: {descending_numbers}\")\n",
        "\n",
        "# (d)\n",
        "average_all = sum(random_numbers) / len(random_numbers)\n",
        "print(f\"Average of all generated numbers: {average_all:.2f}\")\n",
        "\n",
        "# (e)\n",
        "average_ascending_first_6_num = sum(ascending_numbers[:6]) / 6\n",
        "average_descending_first_6_num = sum(descending_numbers[:6]) / 6\n",
        "print(f\"Average of first 6 numbers in ascending order: {average_ascending_first_6_num:.2f}\")\n",
        "print(f\"Average of first 6 numbers in descending order: {average_descending_first_6_num:.2f}\")\n",
        "\n"
      ]
    },
    {
      "cell_type": "markdown",
      "metadata": {
        "id": "1F_PZdH9Sh49"
      },
      "source": [
        "# Question 3 (10 points).\n",
        "\n",
        "Create a Python program that encompasses various string manipulation task:\n",
        "\n",
        "(a) Prompt the user to input two sentences.\n",
        "\n",
        "(b) Transform each sentence into a list, where each element corresponds to a word in the sentence. For example, if the sentences are \"Hello, how are you doing today?\" and \"This is an example sentence for the program!\"\n",
        "\n",
        "The program should output:\n",
        "['Hello', ',', 'how', 'are', 'you', 'doing', 'today', '?', 'This', 'is', 'an', 'example', 'sentence', 'for', 'the', 'program', '!']\n",
        "\n",
        "(c) Compare the two sentences. Print out a list of words that occur in both sentences.\n",
        "\n",
        "(d) Remove any punctuation from the sentence and print the sanitized sentences. It should remove at least the following characters, but it can remove more: period(“.”), comma (“,”), semicolon (“;”), and colon (“:”).\n",
        "\n",
        "(e) Count the number of vowels in each of the sentences. Print out each vowel and the occurrences  in the each of the two sentences separately, such as:\n",
        "\n",
        "Sentence1: a:2, e:2, i:0, etc.\n",
        "Sentence2: a:1, e:2, i:2, etc.\n",
        "\n",
        "Design a well-structured Python program to execute these tasks efficiently."
      ]
    },
    {
      "cell_type": "code",
      "execution_count": null,
      "metadata": {
        "id": "Y0oOSlsOS0cq",
        "colab": {
          "base_uri": "https://localhost:8080/"
        },
        "outputId": "23be05f5-494d-44a6-97bb-76ef0709cb16"
      },
      "outputs": [
        {
          "output_type": "stream",
          "name": "stdout",
          "text": [
            "Enter first sentence: Hello, This is Gopi\n",
            "Enter second sentence: How are you?\n",
            "Words in Sentence 1: ['Hello,', 'This', 'is', 'Gopi']\n",
            "Words in Sentence 2: ['How', 'are', 'you?']\n",
            "Words that occur in both sentences: []\n",
            "Sanitized Sentence 1: Hello This is Gopi\n",
            "Sanitized Sentence 2: How are you\n",
            "Vowel counts in Sentence 1: {'a': 0, 'e': 1, 'i': 3, 'o': 2, 'u': 0}\n",
            "Vowel counts in Sentence 2: {'a': 1, 'e': 1, 'i': 0, 'o': 2, 'u': 1}\n"
          ]
        }
      ],
      "source": [
        "import string\n",
        "\n",
        "# (a)\n",
        "sen1 = input(\"Enter first sentence: \")\n",
        "sen2 = input(\"Enter second sentence: \")\n",
        "\n",
        "# (b)\n",
        "def sentence_to_word_list(sentence):\n",
        "    return sentence.split()\n",
        "\n",
        "words_sen1 = sentence_to_word_list(sen1)\n",
        "words_sen2 = sentence_to_word_list(sen2)\n",
        "\n",
        "\n",
        "print(f\"Words in Sentence 1: {words_sen1}\")\n",
        "print(f\"Words in Sentence 2: {words_sen2}\")\n",
        "\n",
        "# (c)\n",
        "common_words = list(set(words_sen1) & set(words_sen2))\n",
        "print(f\"Words that occur in both sentences: {common_words}\")\n",
        "\n",
        "# (d)\n",
        "def remove_punctuation(sentence):\n",
        "    return sentence.translate(str.maketrans('', '', string.punctuation))\n",
        "\n",
        "sanitized_sen1 = remove_punctuation(sen1)\n",
        "sanitized_sen2 = remove_punctuation(sen2)\n",
        "\n",
        "print(f\"Sanitized Sentence 1: {sanitized_sen1}\")\n",
        "print(f\"Sanitized Sentence 2: {sanitized_sen2}\")\n",
        "\n",
        "# (e)\n",
        "def count_vowels(sentence):\n",
        "    vowels = \"aeiou\"\n",
        "    vowel_count = {v: sentence.lower().count(v) for v in vowels}\n",
        "    return vowel_count\n",
        "\n",
        "vowels_sen1 = count_vowels(sen1)\n",
        "vowels_sen2 = count_vowels(sen2)\n",
        "\n",
        "# Print vowel counts for both sentences\n",
        "print(f\"Vowel counts in Sentence 1: {vowels_sen1}\")\n",
        "print(f\"Vowel counts in Sentence 2: {vowels_sen2}\")\n"
      ]
    },
    {
      "cell_type": "markdown",
      "source": [
        "# Question 4 (10 Points)"
      ],
      "metadata": {
        "id": "OP4-5qxAtInv"
      }
    },
    {
      "cell_type": "markdown",
      "source": [
        "Design and implement a simple command-line calculator program. The program should handle both integers and floating-point numbers.\n",
        "\n",
        "(a) Write program that takes a mathematical expression as input and evaluates it. The program should support addition, subtraction, multiplication, and division.\n",
        "\n",
        "(b) Extend the calculator to handle parentheses in mathematical expressions. Implement the necessary logic to evaluate expressions with nested parentheses.\n",
        "\n",
        "(c) Enhance your calculator to include additional mathematical operations such as exponentiation, square root, and modulus.\n",
        "\n",
        "(d) Implement error handling in the calculator program. Handle cases such as division by zero and invalid input expressions. Provide meaningful error messages.\n",
        "\n",
        "(e) Implement a command to exit the calculator."
      ],
      "metadata": {
        "id": "uzN4_hDptK9U"
      }
    },
    {
      "cell_type": "code",
      "source": [
        "import math\n",
        "\n",
        "# (a)\n",
        "def evaluate_expression(expression):\n",
        "    try:\n",
        "        result = eval(expression)\n",
        "        return result\n",
        "    except ZeroDivisionError:\n",
        "        return \"Error: Division by zero\"\n",
        "    except Exception as e:\n",
        "        return f\"Error: {e}\"\n",
        "\n",
        "# (c)\n",
        "def extended_operations(expression):\n",
        "    try:\n",
        "        # Exponentiation\n",
        "        if '**' in expression:\n",
        "            return evaluate_expression(expression)\n",
        "\n",
        "        # Square root\n",
        "        elif 'sqrt' in expression:\n",
        "            # sqrt(x)\n",
        "            number = float(expression[expression.index('(') + 1:expression.index(')')])\n",
        "            return math.sqrt(number)\n",
        "\n",
        "        # Modulus\n",
        "        elif '%' in expression:\n",
        "            return evaluate_expression(expression)\n",
        "\n",
        "        else:\n",
        "            return evaluate_expression(expression)\n",
        "    except Exception as e:\n",
        "        return f\"Error: {e}\"\n",
        "\n",
        "# (d)\n",
        "def calculator():\n",
        "    while True:\n",
        "        expression = input(\"Enter expression (or type 'exit' to quit): \")\n",
        "\n",
        "        # (e)\n",
        "        if expression.lower() == 'exit':\n",
        "            print(\"Exiting calculator.\")\n",
        "            break\n",
        "\n",
        "        # Evaluation and handling errors\n",
        "        result = extended_operations(expression)\n",
        "\n",
        "        print(f\"Result: {result}\")\n",
        "\n",
        "# calculator\n",
        "if __name__ == \"__main__\":\n",
        "    calculator()\n"
      ],
      "metadata": {
        "id": "8nQnVxjJuYtu",
        "colab": {
          "base_uri": "https://localhost:8080/"
        },
        "outputId": "3521db50-631c-492b-c96f-d36bced9c1ce"
      },
      "execution_count": null,
      "outputs": [
        {
          "output_type": "stream",
          "name": "stdout",
          "text": [
            "Enter expression (or type 'exit' to quit): 3+6\n",
            "Result: 9\n",
            "Enter expression (or type 'exit' to quit): (5 + 4) * 7\n",
            "Result: 63\n",
            "Enter expression (or type 'exit' to quit): sqrt(16)\n",
            "Result: 4.0\n",
            "Enter expression (or type 'exit' to quit): 7/0\n",
            "Result: Error: Division by zero\n",
            "Enter expression (or type 'exit' to quit): 3**2\n",
            "Result: 9\n",
            "Enter expression (or type 'exit' to quit): exit\n",
            "Exiting calculator...\n"
          ]
        }
      ]
    },
    {
      "cell_type": "markdown",
      "metadata": {
        "id": "z3tBE7E-Xn5X"
      },
      "source": [
        "# Question 5 (20 points).\n",
        "\n",
        "In the field of Data Science, data is often formatted as a comma-delimited (CSV) file, where each line in a file corresponds to a field's value. Refer to Chapter 9 (p. 106) for more information on comma-delimited files.\n",
        "\n",
        "To answer this question, you will need to download the file [Assignment1_denton_housing.csv](https://raw.githubusercontent.com/unt-iialab/info5731-spring2022/main/assignments/Assignment1_denton_housing.csv) included with this assignment. The file contains statistics about housing in the city of Denton from 2008 to 2014. Write a program to implement the following questions.\n",
        "\n",
        "(a) (5 pts) Calculate the difference in the number of Occupied Housing Units from year to year and print it. The difference must be calculated for the consecutive years such as 2008-2009, 2009-2010 etc. Finally, print the values in the ascending order.\n",
        "\n",
        "(b) (5 pts) For all the years, calculate the percentage of housing units which are vacant an occupied. Print the results in the following format:\n",
        "\n",
        "Year Vacant Housing Units Occupied Housing Units\n",
        "\n",
        "    2008  30%   70%                          \n",
        "\t2009 ----- -----\n",
        "\t2010 ----- -----\n",
        "    2011 ----- -----\n",
        "\t2012 ----- -----\n",
        "    2013 ----- -----\n",
        "\t2014 ----- -----\n",
        "  \n",
        "  \n",
        "\n",
        "(c) (5 pts) Calculate and print the valued and years in which the highest number of housing units were vacant and occupied. Print the results in the following format:  \n",
        "\n",
        "                              Year\tValue\n",
        "\tVacant Housing Units\t  -----   -----\n",
        "\tOccupied Housing Units\t-----   -----\n",
        "\n",
        "(d) (5 pts) Calculate the harmonic mean of the total housing units and print it out. You can find the information about harmonic mean here: https://ncalculators.com/statistics/harmonic-mean-calculator.htm"
      ]
    },
    {
      "cell_type": "code",
      "execution_count": null,
      "metadata": {
        "id": "lqGYuHBhcsRH",
        "colab": {
          "base_uri": "https://localhost:8080/"
        },
        "outputId": "eadc55dc-be74-4141-82fb-160594c93702"
      },
      "outputs": [
        {
          "output_type": "stream",
          "name": "stdout",
          "text": [
            "Year-to-year differences in Occupied Housing Units (sorted):\n",
            "year\n",
            "2009    -795.0\n",
            "2011    -303.0\n",
            "2012    1404.0\n",
            "2013    1565.0\n",
            "2014    2622.0\n",
            "2010    5091.0\n",
            "Name: Occupied Housing Units, dtype: float64\n",
            "\n",
            "Yearly percentage of Vacant and Occupied Housing Units:\n",
            "title_field  Vacant Percentage  Occupied Percentage\n",
            "year                                               \n",
            "2008                     10.88                89.12\n",
            "2009                      9.07                90.93\n",
            "2010                      8.14                91.86\n",
            "2011                      9.38                90.62\n",
            "2012                      6.68                93.32\n",
            "2013                      8.80                91.20\n",
            "2014                      5.73                94.27\n",
            "\n",
            "Year and value with highest number of vacant and occupied housing units:\n",
            "Vacant Housing Units: Year 2008, Value 4483\n",
            "Occupied Housing Units: Year 2014, Value 46295\n",
            "\n",
            "Harmonic mean of Total Housing Units: 44398.29\n"
          ]
        }
      ],
      "source": [
        "\n",
        "import pandas as pd\n",
        "from scipy.stats import hmean\n",
        "\n",
        "file_path = \"Assignment1_denton_housing.csv\"\n",
        "df = pd.read_csv(file_path)\n",
        "\n",
        "df_pivot = df.pivot(index=\"year\", columns=\"title_field\", values=\"value\")\n",
        "df_pivot = df_pivot.sort_index(ascending=True)\n",
        "\n",
        "# (a)\n",
        "occupied_diff = df_pivot[\"Occupied Housing Units\"].diff().dropna()\n",
        "occupied_diff_sorted = occupied_diff.sort_values()\n",
        "print(\"Year-to-year differences in Occupied Housing Units (sorted):\")\n",
        "print(occupied_diff_sorted)\n",
        "\n",
        "# (b)\n",
        "df_pivot[\"Vacant Percentage\"] = (df_pivot[\"Vacant Housing Units\"] / df_pivot[\"Total Housing Units\"]) * 100\n",
        "df_pivot[\"Occupied Percentage\"] = (df_pivot[\"Occupied Housing Units\"] / df_pivot[\"Total Housing Units\"]) * 100\n",
        "\n",
        "print(\"\\nYearly percentage of Vacant and Occupied Housing Units:\")\n",
        "print(df_pivot[[\"Vacant Percentage\", \"Occupied Percentage\"]].round(2))\n",
        "\n",
        "# (c)\n",
        "max_vacant_year = df_pivot[\"Vacant Housing Units\"].idxmax()\n",
        "max_vacant_value = df_pivot[\"Vacant Housing Units\"].max()\n",
        "\n",
        "max_occupied_year = df_pivot[\"Occupied Housing Units\"].idxmax()\n",
        "max_occupied_value = df_pivot[\"Occupied Housing Units\"].max()\n",
        "\n",
        "print(\"\\nYear and value with highest number of vacant and occupied housing units:\")\n",
        "print(f\"Vacant Housing Units: Year {max_vacant_year}, Value {max_vacant_value}\")\n",
        "print(f\"Occupied Housing Units: Year {max_occupied_year}, Value {max_occupied_value}\")\n",
        "\n",
        "# (d)\n",
        "harmonic_mean_value = hmean(df_pivot[\"Total Housing Units\"])\n",
        "print(f\"\\nHarmonic mean of Total Housing Units: {harmonic_mean_value:.2f}\")\n",
        "\n",
        "\n"
      ]
    },
    {
      "cell_type": "markdown",
      "source": [
        "# **For question 6 and 7 you can take AI assitance to solve.**\n",
        "\n",
        "Make sure you follow the instructions given in class to answer these questions.\n",
        "\n",
        "\n",
        "**Important points:**\n",
        "\n",
        "1.   You must come up with at least 10 edge cases.\n",
        "2.   You should provide prompts and revised prompts given to ChatGPT.\n",
        "2.   Debug your code and write comments for each block of code\n",
        "3.   Analyzing error will not consider as edge case.\n",
        "\n",
        "Edge cases are like real life scienarios which are realated to the given question."
      ],
      "metadata": {
        "id": "DB9XtkavJmsO"
      }
    },
    {
      "cell_type": "markdown",
      "source": [
        "# Question 6 (20 points).\n",
        "Develop a advance Python program to manage inventory records for a prodcut managing company. The system needs functions for adding, deleting and changing products and basic search options. Your system should use CSV files to automate restocking and produce reports that show item values alongside category breakdowns. Manage edge cases and corrupted CSV files. Finally maintaine 50 products of different categories in inventory."
      ],
      "metadata": {
        "id": "BAfp-70D2Cay"
      }
    },
    {
      "cell_type": "code",
      "source": [
        "import pandas as pd\n",
        "import os\n",
        "\n",
        "class InventoryManager:\n",
        "    def __init__(self, file_name):\n",
        "        self.file_name = file_name\n",
        "        self.load_inventory()\n",
        "\n",
        "    def load_inventory(self):\n",
        "        \"\"\"Loads inventory from CSV file, handling corruption and missing data.\"\"\"\n",
        "        if os.path.exists(self.file_name):\n",
        "            try:\n",
        "                self.inventory = pd.read_csv(self.file_name)\n",
        "                if self.inventory.isnull().values.any():\n",
        "                    raise ValueError(\"Corrupt or missing data detected in CSV.\")\n",
        "            except Exception as e:\n",
        "                print(f\"Error loading inventory: {e}. Initializing empty inventory.\")\n",
        "                self.initialize_inventory()\n",
        "        else:\n",
        "            self.initialize_inventory()\n",
        "\n",
        "    def initialize_inventory(self):\n",
        "        \"\"\"Initializes inventory with 50 products of different categories.\"\"\"\n",
        "        categories = ['Electronics', 'Furniture', 'Clothing', 'Groceries', 'Toys']\n",
        "        self.inventory = pd.DataFrame({\n",
        "            \"Product ID\": [f\"P{i+1}\" for i in range(50)],\n",
        "            \"Name\": [f\"Product{i+1}\" for i in range(50)],\n",
        "            \"Category\": [categories[i % len(categories)] for i in range(50)],\n",
        "            \"Quantity\": [10 + i for i in range(50)],\n",
        "            \"Price\": [5.99 + (i * 2) for i in range(50)]\n",
        "        })\n",
        "        self.save_inventory()\n",
        "\n",
        "    def save_inventory(self):\n",
        "        \"\"\"Saves inventory back to CSV file.\"\"\"\n",
        "        self.inventory.to_csv(self.file_name, index=False)\n",
        "\n",
        "    def add_product(self, product_id, name, category, quantity, price):\n",
        "        \"\"\"Adds a new product to the inventory. Handles duplicate product IDs.\"\"\"\n",
        "        if product_id in self.inventory[\"Product ID\"].values:\n",
        "            print(\"Error: Product ID already exists.\")\n",
        "            return\n",
        "        new_product = pd.DataFrame([[product_id, name, category, quantity, price]],\n",
        "                                    columns=self.inventory.columns)\n",
        "        self.inventory = pd.concat([self.inventory, new_product], ignore_index=True)\n",
        "        self.save_inventory()\n",
        "\n",
        "    def delete_product(self, product_id):\n",
        "        \"\"\"Deletes a product from the inventory. Ensures product exists before deletion.\"\"\"\n",
        "        if product_id not in self.inventory[\"Product ID\"].values:\n",
        "            print(\"Error: Product not found.\")\n",
        "            return\n",
        "        self.inventory = self.inventory[self.inventory[\"Product ID\"] != product_id]\n",
        "        self.save_inventory()\n",
        "\n",
        "    def update_product(self, product_id, column, new_value):\n",
        "        \"\"\"Updates product details. Handles non-existent products and invalid columns.\"\"\"\n",
        "        if product_id not in self.inventory[\"Product ID\"].values:\n",
        "            print(\"Error: Product not found.\")\n",
        "            return\n",
        "        if column not in self.inventory.columns:\n",
        "            print(\"Error: Invalid column.\")\n",
        "            return\n",
        "        self.inventory.loc[self.inventory[\"Product ID\"] == product_id, column] = new_value\n",
        "        self.save_inventory()\n",
        "\n",
        "    def search_product(self, search_term):\n",
        "        \"\"\"Search for a product by name or category. Handles case insensitivity.\"\"\"\n",
        "        result = self.inventory[self.inventory.apply(lambda row: search_term.lower() in row.to_string().lower(), axis=1)]\n",
        "        print(result if not result.empty else \"No products found.\")\n",
        "\n",
        "    def generate_report(self):\n",
        "        \"\"\"Generates a report showing total inventory value and category breakdowns.\"\"\"\n",
        "        total_value = (self.inventory[\"Quantity\"] * self.inventory[\"Price\"]).sum()\n",
        "        category_breakdown = self.inventory.groupby(\"Category\")[\"Quantity\"].sum()\n",
        "        print(f\"Total Inventory Value: ${total_value:.2f}\")\n",
        "        print(\"Category Breakdown:\")\n",
        "        print(category_breakdown)\n",
        "\n",
        "# Edge Cases Considered:\n",
        "# 1. Adding a product with an existing Product ID\n",
        "# 2. Deleting a product that does not exist\n",
        "# 3. Updating a product that does not exist\n",
        "# 4. Updating a non-existent column\n",
        "# 5. Searching with special characters or case variations\n",
        "# 6. Handling an empty inventory file\n",
        "# 7. Handling corrupted or missing data in CSV\n",
        "# 8. Products with zero or negative quantity\n",
        "# 9. Products with zero or negative price\n",
        "# 10. Large inventory data handling\n",
        "\n",
        "# Initialize inventory manager\n",
        "inventory = InventoryManager(\"inventory.csv\")\n",
        "inventory.generate_report()\n"
      ],
      "metadata": {
        "id": "w8dE2dJb2quE",
        "colab": {
          "base_uri": "https://localhost:8080/"
        },
        "outputId": "2a97a984-9d17-4c06-bc33-77e2ed7e6343"
      },
      "execution_count": null,
      "outputs": [
        {
          "output_type": "stream",
          "name": "stdout",
          "text": [
            "Total Inventory Value: $115682.75\n",
            "Category Breakdown:\n",
            "Category\n",
            "Clothing       345\n",
            "Electronics    325\n",
            "Furniture      335\n",
            "Groceries      355\n",
            "Toys           365\n",
            "Name: Quantity, dtype: int64\n"
          ]
        }
      ]
    },
    {
      "cell_type": "markdown",
      "source": [
        "1.Checking the CSV File\n",
        "\n",
        "Prompt:Develop a advance Python program to manage inventory records for a prodcut managing company. The system needs functions for adding, deleting and changing products and basic search options. Your system should use CSV files to automate restocking and produce reports that show item values alongside category breakdowns. Manage edge cases and corrupted CSV files. Finally maintaine 50 products of different categories in inventory.\"Load and inspect the contents of the file 'Assignment1_denton_housing.csv' to determine if it aligns with an inventory management system.\"\n",
        "\n",
        "ChatGPT Response: \"The file 'Assignment1_denton_housing.csv' has been successfully loaded. Let's preview its contents to determine if it contains inventory-related data or if it's a different dataset.\"\n",
        "\n",
        "2.Handling Corrupt or Missing Data in CSV\n",
        "\n",
        "Prompt:\"Ensure that the inventory management system can handle missing or corrupted data in the CSV file by either cleaning it or reinitializing the inventory.\"\n",
        "\n",
        "ChatGPT Response:\"I will check for missing values or inconsistencies in the CSV file. If any corrupted or incomplete data is found, I can either drop, fill, or reinitialize the dataset to maintain a clean inventory record.\"\n",
        "\n",
        "3.Verifying CSV Structure for Inventory Management\n",
        "\n",
        "Prompt: \"Check if the CSV file contains the required columns: 'Product ID', 'Name', 'Category', 'Quantity', and 'Price'. If not, suggest modifications or reformatting.\"\n",
        "\n",
        "ChatGPT Response: \"The CSV file does not contain the expected structure for an inventory management system. If needed, I can suggest a format to restructure the data or create a new inventory file with the required columns.\"\n",
        "\n",
        "4.Handling Non-Inventory Data in CSV\n",
        "\n",
        "Prompt:\"If the uploaded CSV file does not contain inventory-related data, what steps should be taken to proceed with the inventory management system?\"\n",
        "\n",
        "ChatGPT Response:\"The file appears to contain data unrelated to inventory management. Would you like me to generate a new CSV file with sample inventory data, or would you like to modify the existing file to align with inventory tracking?\"\n",
        "\n",
        "5.Initializing a New Inventory File if CSV is Incompatible\n",
        "\n",
        "Prompt:\"If the CSV file is incompatible with the inventory system, initialize a new inventory file with 50 products across different categories.\"\n",
        "\n",
        "ChatGPT Response:\"Since the provided file does not align with inventory management, I will initialize a new inventory file containing 50 products from different categories such as Electronics, Furniture, Clothing, Groceries, and Toys. This will ensure smooth functionality of the inventory system.\"\n",
        "\n",
        "1.Revised Prompt: Checking CSV Structure Again\n",
        "\n",
        "Prompt:\"The initial CSV structure check showed missing columns. Now, reload the file and attempt to map existing columns to inventory-related fields, if possible.\"\n",
        "\n",
        "ChatGPT Response:\"I will attempt to map the available columns in 'Assignment1_denton_housing.csv' to required inventory fields. If there is any mismatch, I will suggest how to restructure or rename the columns accordingly.\"\n",
        "\n",
        "2️.Revised Prompt: Handling Severe Corruption in CSV\n",
        "\n",
        "Prompt:\"The CSV file contains significant missing or corrupted data. Implement a strategy to fill missing values or replace them with default placeholders.\"\n",
        "\n",
        "ChatGPT Response:\"Since the file contains extensive missing data, I will implement a strategy to fill missing values with defaults (e.g., setting missing quantities to 0, filling blank categories with 'Unknown', and assigning default prices). If a row is entirely corrupted, I will remove it to maintain integrity.\"\n",
        "\n",
        "3️.Revised Prompt: Creating a New CSV if Fixing Isn’t Feasible\n",
        "Prompt:\"If the CSV file cannot be repaired due to extensive corruption, create a new structured inventory file while preserving any usable data from the existing file.\"\n",
        "ChatGPT Response:\"The corruption in the file is too severe to recover all data. I will create a new inventory CSV file with properly structured data while keeping any salvageable records from the existing dataset.\"\n",
        "\n",
        "4️.Revised Prompt: Adjusting Column Names for Compatibility\n",
        "\n",
        "Prompt:\"If the existing dataset contains similar but mismatched column names (e.g., 'Item_ID' instead of 'Product ID'), rename them accordingly and reload the data.\"\n",
        "\n",
        "ChatGPT Response:\"I will rename mismatched columns to align with the inventory system's expected format. For example, 'Item_ID' will be renamed to 'Product ID', and 'Cost' will be renamed to 'Price'. After renaming, I will reload the data to ensure it works correctly.\"\n",
        "\n",
        "5️.Revised Prompt: Enhancing Reporting Features\n",
        "\n",
        "Prompt: \"Improve the reporting functionality to include total inventory value, category-wise breakdowns, and low-stock alerts.\"\n",
        "\n",
        "ChatGPT Response: \"I will enhance the reporting system by adding:1️A total inventory value calculation. 2️A category-wise stock breakdown."
      ],
      "metadata": {
        "id": "LEMZnC99r809"
      }
    },
    {
      "cell_type": "markdown",
      "source": [
        "# Question 7 (20 points)\n",
        "\n",
        "Create a well desined Python program for a flight booking system. Offer core functions for adding new flights, finding trips, reserving and releasing seating space and creating performance reports. Ensure the system manages edge cases like invalid input, overbooking, and cancellations. Finally, extend the booking system by including advanced features and maintain about 50 flight in the system."
      ],
      "metadata": {
        "id": "290UJiNg2xES"
      }
    },
    {
      "cell_type": "code",
      "source": [
        "class Flight:\n",
        "    def __init__(self, flight_number, origin, destination, total_seats):\n",
        "        self.flight_number = flight_number\n",
        "        self.origin = origin\n",
        "        self.destination = destination\n",
        "        self.total_seats = total_seats\n",
        "        self.booked_seats = 0\n",
        "\n",
        "    def book_seat(self):\n",
        "        if self.booked_seats < self.total_seats:\n",
        "            self.booked_seats += 1\n",
        "            return True\n",
        "        else:\n",
        "            return False  # Edge case: Overbooking\n",
        "\n",
        "    def release_seat(self):\n",
        "        if self.booked_seats > 0:\n",
        "            self.booked_seats -= 1\n",
        "            return True\n",
        "        else:\n",
        "            return False  # Edge case: Releasing a seat when no seats are booked\n",
        "\n",
        "    def available_seats(self):\n",
        "        return self.total_seats - self.booked_seats\n",
        "\n",
        "\n",
        "class FlightBookingSystem:\n",
        "    def __init__(self):\n",
        "        self.flights = {}\n",
        "\n",
        "    def add_flight(self, flight_number, origin, destination, total_seats):\n",
        "        if flight_number not in self.flights:\n",
        "            self.flights[flight_number] = Flight(flight_number, origin, destination, total_seats)\n",
        "            print(f\"Flight {flight_number} added successfully.\")\n",
        "        else:\n",
        "            print(\"Flight already exists.\")  # Edge case: Duplicate flight number\n",
        "\n",
        "    def find_flight(self, origin, destination):\n",
        "        available_flights = [\n",
        "            flight for flight in self.flights.values() if flight.origin == origin and flight.destination == destination\n",
        "        ]\n",
        "        if not available_flights:\n",
        "            print(f\"No flights available from {origin} to {destination}.\")  # Edge case: No flights found\n",
        "        return available_flights\n",
        "\n",
        "    def reserve_seat(self, flight_number):\n",
        "        if flight_number in self.flights:\n",
        "            flight = self.flights[flight_number]\n",
        "            if flight.book_seat():\n",
        "                print(f\"Seat reserved on flight {flight_number}.\")\n",
        "            else:\n",
        "                print(\"No seats available. Overbooking error.\")  # Edge case: Overbooking\n",
        "        else:\n",
        "            print(f\"Flight {flight_number} not found.\")  # Edge case: Invalid flight number\n",
        "\n",
        "    def release_seat(self, flight_number):\n",
        "        if flight_number in self.flights:\n",
        "            flight = self.flights[flight_number]\n",
        "            if flight.release_seat():\n",
        "                print(f\"Seat released on flight {flight_number}.\")\n",
        "            else:\n",
        "                print(\"No seats to release. Cancellation error.\")  # Edge case: Releasing when no seats are booked\n",
        "        else:\n",
        "            print(f\"Flight {flight_number} not found.\")  # Edge case: Invalid flight number\n",
        "\n",
        "    def generate_report(self):\n",
        "        print(\"Flight Report:\")\n",
        "        for flight in self.flights.values():\n",
        "            print(f\"Flight {flight.flight_number}: {flight.origin} -> {flight.destination}, Available Seats: {flight.available_seats()}\")\n",
        "\n",
        "    def advanced_features(self):\n",
        "        # Advanced feature: Check if there are only a few seats left and notify\n",
        "        for flight in self.flights.values():\n",
        "            if flight.available_seats() <= 5:\n",
        "                print(f\"Warning: Only {flight.available_seats()} seats left on Flight {flight.flight_number}.\")\n",
        "\n",
        "        # Advanced feature: Ability to cancel a flight and free up all seats\n",
        "        flight_number = input(\"Enter flight number to cancel: \")\n",
        "        if flight_number in self.flights:\n",
        "            flight = self.flights[flight_number]\n",
        "            flight.booked_seats = 0  # All seats are freed upon cancellation\n",
        "            print(f\"Flight {flight_number} has been cancelled. All seats are freed.\")\n",
        "        else:\n",
        "            print(f\"Flight {flight_number} not found.\")  # Edge case: Invalid flight number\n",
        "\n",
        "\n",
        "def main():\n",
        "    system = FlightBookingSystem()\n",
        "\n",
        "    # Add some flights to the system\n",
        "    system.add_flight(\"AA101\", \"New York\", \"Los Angeles\", 100)\n",
        "    system.add_flight(\"AA102\", \"New York\", \"Miami\", 150)\n",
        "    system.add_flight(\"AA103\", \"Chicago\", \"San Francisco\", 200)\n",
        "\n",
        "    # Find available flights\n",
        "    available_flights = system.find_flight(\"New York\", \"Los Angeles\")\n",
        "    if available_flights:\n",
        "        for flight in available_flights:\n",
        "            print(f\"Available Flight: {flight.flight_number} - {flight.origin} -> {flight.destination}\")\n",
        "\n",
        "    # Reserve a seat on a flight\n",
        "    system.reserve_seat(\"AA101\")\n",
        "    system.reserve_seat(\"AA101\")  # Book two seats to test edge case of overbooking\n",
        "\n",
        "    # Release a seat from a flight\n",
        "    system.release_seat(\"AA101\")\n",
        "    system.release_seat(\"AA101\")  # Test releasing when no seats are booked (edge case)\n",
        "\n",
        "    # Generate performance report\n",
        "    system.generate_report()\n",
        "\n",
        "    # Call advanced features (e.g., flight cancellation, limited seats left)\n",
        "    system.advanced_features()\n",
        "\n",
        "\n",
        "if __name__ == \"__main__\":\n",
        "    main()\n"
      ],
      "metadata": {
        "id": "dME5iWD53ADa",
        "colab": {
          "base_uri": "https://localhost:8080/"
        },
        "outputId": "674685c5-799e-4c90-95aa-a9d28cd2f441"
      },
      "execution_count": 1,
      "outputs": [
        {
          "output_type": "stream",
          "name": "stdout",
          "text": [
            "Flight AA101 added successfully.\n",
            "Flight AA102 added successfully.\n",
            "Flight AA103 added successfully.\n",
            "Available Flight: AA101 - New York -> Los Angeles\n",
            "Seat reserved on flight AA101.\n",
            "Seat reserved on flight AA101.\n",
            "Seat released on flight AA101.\n",
            "Seat released on flight AA101.\n",
            "Flight Report:\n",
            "Flight AA101: New York -> Los Angeles, Available Seats: 100\n",
            "Flight AA102: New York -> Miami, Available Seats: 150\n",
            "Flight AA103: Chicago -> San Francisco, Available Seats: 200\n",
            "Enter flight number to cancel: AA101\n",
            "Flight AA101 has been cancelled. All seats are freed.\n"
          ]
        }
      ]
    },
    {
      "cell_type": "markdown",
      "source": [
        "Prompt 1:\n",
        "Initial Prompt:Create a well desined Python program for a flight booking system. Offer core functions for adding new flights, finding trips, reserving and releasing seating space and creating performance reports. Ensure the system manages edge cases like invalid input, overbooking, and cancellations. Finally, extend the booking system by including advanced features and maintain about 50 flight in the system.\"I want to add flights to my booking system. Each flight should have a flight number, origin, destination, and total available seats. If a flight number already exists, it should not be added again.\"\n",
        "\n",
        "ChatGPT Initial Response:\"You can implement this feature by maintaining a dictionary of flights where the key is the flight number. Before adding a flight, check if the flight number already exists to prevent duplication. Would you like the system to notify the user if a duplicate flight is attempted?\"\n",
        "\n",
        "Revised Prompt:\"Yes, I would like the system to notify the user if the flight already exists. Also, can you include a confirmation message when a flight is successfully added?\"\n",
        "\n",
        "ChatGPT Revised Response:\"Certainly! When adding a flight, the system will first check if the flight number is already present. If it exists, a message like 'Flight already exists.' will be shown. Otherwise, it will be added, and a confirmation message like 'Flight AA101 added successfully.' will be displayed.\"\n",
        "\n",
        "Prompt 2: Booking a Seat on a Flight\n",
        "\n",
        "Initial Prompt:\"I want to book a seat on a flight. If there are available seats, it should be reserved. If the flight is full, it should display an error message.\"\n",
        "\n",
        "ChatGPT Initial Response:\"To implement this, check if the number of booked seats is less than the total available seats before allowing a reservation. If the flight is fully booked, return an appropriate message like 'No seats available. Overbooking error.' Would you like an option to add users to a waitlist if the flight is full?\"\n",
        "\n",
        "Revised Prompt:\"I don’t need a waitlist for now, but I would like a confirmation message when a seat is successfully reserved.\"\n",
        "\n",
        "ChatGPT Revised Response:\"Understood! The system will check availability before booking a seat. If successful, it will show 'Seat reserved on flight AA101.' Otherwise, it will display 'No seats available. Overbooking error.' Let me know if you need further enhancements!\"\n",
        "\n",
        "Prompt 3: Canceling a Flight\n",
        "\n",
        "Initial Prompt:\"I want to add a feature where a user can cancel a flight. When a flight is canceled, all its booked seats should be released, and it should be removed from the system.\"\n",
        "\n",
        "ChatGPT Initial Response:\"To allow flight cancellations, the system can ask the user for a flight number. If it exists, it will free all booked seats and remove the flight from the system. Would you like to log cancellations for reference?\"\n",
        "\n",
        "Revised Prompt:\"No need for a log, but I want a confirmation message when a flight is canceled successfully. Also, if the flight number is incorrect, the system should notify the user.\"\n",
        "\n",
        "ChatGPT Revised Response:\"Got it! When a flight is canceled, the system will display 'Flight AA101 has been canceled. All seats are freed.' If the flight number is invalid, it will return 'Flight not found.' This ensures the user receives clear feedback.\"\n",
        "\n",
        "Prompt 4: Generating a Flight Report\n",
        "Initial Prompt:\"I need a report that shows all available flights along with their origin, destination, and the number of available seats.\"\n",
        "ChatGPT Initial Response:\"The system can generate a flight report listing each flight’s details in a structured format. Would you like the report to be displayed on the console, saved to a file, or both?\"\n",
        "\n",
        "Revised Prompt:\"For now, displaying the report on the console is enough, but I want the output to be formatted clearly with proper spacing.\"\n",
        "\n",
        "ChatGPT Revised Response:*\"Understood! The report will be displayed in a structured format, such as:\n",
        "yaml\n",
        "\n",
        "Flight Report:\n",
        "Flight AA101: New York -> Los Angeles, Available Seats: 100\n",
        "Flight AA102: New York -> Miami, Available Seats: 150\n",
        "This makes it easier to read and understand the available flight details.\"*\n",
        "\n",
        "Prompt 5: Advanced Features for Flight Booking\n",
        "\n",
        "Initial Prompt:\"I want to add advanced features like notifying users when a flight has only a few seats left and the ability to search flights based on origin and destination.\"\n",
        "ChatGPT Initial Response:\"For the seat availability notification, the system can warn users when only a few (e.g., 5 or fewer) seats are left. For flight search, it can return all matching flights based on the given origin and destination. Would you like the search results to also show the number of available seats?\"\n",
        "\n",
        "Revised Prompt:\"Yes, I’d like the search results to include the number of available seats. Also, the system should display a warning if only a few seats remain on a flight.\"\n",
        "ChatGPT Revised Response:*\"The system will now return flight search results in this format:\n",
        "yaml\n",
        "\n",
        "Available Flight: AA101 - New York -> Los Angeles, Available Seats: 3\n",
        "Additionally, if a flight has 5 or fewer available seats, it will show a warning like:'Warning: Only 3 seats left on Flight AA101.'\n"
      ],
      "metadata": {
        "id": "yd1n0m9q2Ubt"
      }
    },
    {
      "cell_type": "markdown",
      "source": [
        "# Mandatory Question\n",
        "\n",
        "Provide your thoughts on the assignment. What did you find challenging, and what aspects did you enjoy? Your opinion on the provided time to complete the assignment. Share any suggestions for improvement. Your feedback will be valuable for enhancing the learning experience."
      ],
      "metadata": {
        "id": "q8BFCvWp32cf"
      }
    },
    {
      "cell_type": "markdown",
      "source": [
        "My Answer:\n",
        "The assignment was well-presented, interactive, with the key concepts shown again. The biggest challenge was the debugging of difficult logic and hence problem-solving skills. Actually, I enjoyed using the methodology seeing what results in real time; hence, the learning was quite satisfying."
      ],
      "metadata": {
        "id": "3LL5DLQvh-Lr"
      }
    }
  ],
  "metadata": {
    "colab": {
      "provenance": [],
      "include_colab_link": true
    },
    "kernelspec": {
      "display_name": "Python 3 (ipykernel)",
      "language": "python",
      "name": "python3"
    },
    "language_info": {
      "codemirror_mode": {
        "name": "ipython",
        "version": 3
      },
      "file_extension": ".py",
      "mimetype": "text/x-python",
      "name": "python",
      "nbconvert_exporter": "python",
      "pygments_lexer": "ipython3",
      "version": "3.9.12"
    }
  },
  "nbformat": 4,
  "nbformat_minor": 0
}